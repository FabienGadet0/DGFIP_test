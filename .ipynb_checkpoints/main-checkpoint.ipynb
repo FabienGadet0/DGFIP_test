{
 "cells": [
  {
   "cell_type": "code",
   "execution_count": 1,
   "metadata": {},
   "outputs": [
    {
     "name": "stdout",
     "output_type": "stream",
     "text": [
      "Requirement already satisfied: pandas in /usr/local/anaconda3/lib/python3.7/site-packages (1.0.1)\n",
      "Requirement already satisfied: sklearn in /usr/local/anaconda3/lib/python3.7/site-packages (0.0)\n",
      "Requirement already satisfied: seaborn in /usr/local/anaconda3/lib/python3.7/site-packages (0.9.0)\n",
      "Requirement already satisfied: pytz>=2017.2 in /usr/local/anaconda3/lib/python3.7/site-packages (from pandas) (2020.1)\n",
      "Requirement already satisfied: numpy>=1.13.3 in /usr/local/anaconda3/lib/python3.7/site-packages (from pandas) (1.17.2)\n",
      "Requirement already satisfied: python-dateutil>=2.6.1 in /usr/local/anaconda3/lib/python3.7/site-packages (from pandas) (2.8.1)\n",
      "Requirement already satisfied: scikit-learn in /usr/local/anaconda3/lib/python3.7/site-packages (from sklearn) (0.23.2)\n",
      "Requirement already satisfied: scipy>=0.14.0 in /usr/local/anaconda3/lib/python3.7/site-packages (from seaborn) (1.4.1)\n",
      "Requirement already satisfied: matplotlib>=1.4.3 in /usr/local/anaconda3/lib/python3.7/site-packages (from seaborn) (3.1.1)\n",
      "Requirement already satisfied: six>=1.5 in /usr/local/anaconda3/lib/python3.7/site-packages (from python-dateutil>=2.6.1->pandas) (1.15.0)\n",
      "Requirement already satisfied: joblib>=0.11 in /usr/local/anaconda3/lib/python3.7/site-packages (from scikit-learn->sklearn) (0.13.2)\n",
      "Requirement already satisfied: threadpoolctl>=2.0.0 in /usr/local/anaconda3/lib/python3.7/site-packages (from scikit-learn->sklearn) (2.1.0)\n",
      "Requirement already satisfied: cycler>=0.10 in /usr/local/anaconda3/lib/python3.7/site-packages (from matplotlib>=1.4.3->seaborn) (0.10.0)\n",
      "Requirement already satisfied: kiwisolver>=1.0.1 in /usr/local/anaconda3/lib/python3.7/site-packages (from matplotlib>=1.4.3->seaborn) (1.1.0)\n",
      "Requirement already satisfied: pyparsing!=2.0.4,!=2.1.2,!=2.1.6,>=2.0.1 in /usr/local/anaconda3/lib/python3.7/site-packages (from matplotlib>=1.4.3->seaborn) (2.4.7)\n",
      "Requirement already satisfied: setuptools in /usr/local/anaconda3/lib/python3.7/site-packages (from kiwisolver>=1.0.1->matplotlib>=1.4.3->seaborn) (41.4.0)\n"
     ]
    }
   ],
   "source": [
    "!pip install pandas sklearn seaborn"
   ]
  },
  {
   "cell_type": "code",
   "execution_count": 2,
   "metadata": {},
   "outputs": [
    {
     "name": "stderr",
     "output_type": "stream",
     "text": [
      "/usr/local/anaconda3/lib/python3.7/site-packages/statsmodels/tools/_testing.py:19: FutureWarning: pandas.util.testing is deprecated. Use the functions in the public API at pandas.testing instead.\n",
      "  import pandas.util.testing as tm\n"
     ]
    }
   ],
   "source": [
    "import pandas\n",
    "import sklearn\n",
    "import seaborn as sns"
   ]
  },
  {
   "cell_type": "code",
   "execution_count": 115,
   "metadata": {},
   "outputs": [],
   "source": [
    "df = pandas.read_csv(\"./mutations.csv\")"
   ]
  },
  {
   "cell_type": "code",
   "execution_count": 116,
   "metadata": {
    "scrolled": true
   },
   "outputs": [
    {
     "data": {
      "text/html": [
       "<div>\n",
       "<style scoped>\n",
       "    .dataframe tbody tr th:only-of-type {\n",
       "        vertical-align: middle;\n",
       "    }\n",
       "\n",
       "    .dataframe tbody tr th {\n",
       "        vertical-align: top;\n",
       "    }\n",
       "\n",
       "    .dataframe thead th {\n",
       "        text-align: right;\n",
       "    }\n",
       "</style>\n",
       "<table border=\"1\" class=\"dataframe\">\n",
       "  <thead>\n",
       "    <tr style=\"text-align: right;\">\n",
       "      <th></th>\n",
       "      <th>Unnamed: 0</th>\n",
       "      <th>Date mutation</th>\n",
       "      <th>Nature mutation</th>\n",
       "      <th>Valeur fonciere</th>\n",
       "      <th>No voie</th>\n",
       "      <th>Type de voie</th>\n",
       "      <th>Code voie</th>\n",
       "      <th>Voie</th>\n",
       "      <th>Code postal</th>\n",
       "      <th>Section</th>\n",
       "      <th>...</th>\n",
       "      <th>Surface Carrez du 3eme lot</th>\n",
       "      <th>4eme lot</th>\n",
       "      <th>Surface Carrez du 4eme lot</th>\n",
       "      <th>5eme lot</th>\n",
       "      <th>Surface Carrez du 5eme lot</th>\n",
       "      <th>Nombre de lots</th>\n",
       "      <th>Code type local</th>\n",
       "      <th>Surface reelle bati</th>\n",
       "      <th>Nombre pieces principales</th>\n",
       "      <th>Surface terrain</th>\n",
       "    </tr>\n",
       "  </thead>\n",
       "  <tbody>\n",
       "    <tr>\n",
       "      <th>0</th>\n",
       "      <td>803607</td>\n",
       "      <td>02/01/2020</td>\n",
       "      <td>Vente</td>\n",
       "      <td>268800,00</td>\n",
       "      <td>14.0</td>\n",
       "      <td>RUE</td>\n",
       "      <td>0411</td>\n",
       "      <td>DE L ARCADE</td>\n",
       "      <td>75008.0</td>\n",
       "      <td>BS</td>\n",
       "      <td>...</td>\n",
       "      <td>NaN</td>\n",
       "      <td>NaN</td>\n",
       "      <td>NaN</td>\n",
       "      <td>NaN</td>\n",
       "      <td>NaN</td>\n",
       "      <td>2</td>\n",
       "      <td>2.0</td>\n",
       "      <td>24.0</td>\n",
       "      <td>1.0</td>\n",
       "      <td>NaN</td>\n",
       "    </tr>\n",
       "    <tr>\n",
       "      <th>1</th>\n",
       "      <td>803608</td>\n",
       "      <td>06/01/2020</td>\n",
       "      <td>Vente</td>\n",
       "      <td>878378,00</td>\n",
       "      <td>9.0</td>\n",
       "      <td>BD</td>\n",
       "      <td>5888</td>\n",
       "      <td>DE LA MADELEINE</td>\n",
       "      <td>75001.0</td>\n",
       "      <td>BC</td>\n",
       "      <td>...</td>\n",
       "      <td>NaN</td>\n",
       "      <td>NaN</td>\n",
       "      <td>NaN</td>\n",
       "      <td>NaN</td>\n",
       "      <td>NaN</td>\n",
       "      <td>3</td>\n",
       "      <td>2.0</td>\n",
       "      <td>66.0</td>\n",
       "      <td>2.0</td>\n",
       "      <td>NaN</td>\n",
       "    </tr>\n",
       "    <tr>\n",
       "      <th>2</th>\n",
       "      <td>803609</td>\n",
       "      <td>06/01/2020</td>\n",
       "      <td>Vente</td>\n",
       "      <td>878378,00</td>\n",
       "      <td>9.0</td>\n",
       "      <td>BD</td>\n",
       "      <td>5888</td>\n",
       "      <td>DE LA MADELEINE</td>\n",
       "      <td>75001.0</td>\n",
       "      <td>BC</td>\n",
       "      <td>...</td>\n",
       "      <td>NaN</td>\n",
       "      <td>NaN</td>\n",
       "      <td>NaN</td>\n",
       "      <td>NaN</td>\n",
       "      <td>NaN</td>\n",
       "      <td>1</td>\n",
       "      <td>4.0</td>\n",
       "      <td>43.0</td>\n",
       "      <td>0.0</td>\n",
       "      <td>NaN</td>\n",
       "    </tr>\n",
       "    <tr>\n",
       "      <th>3</th>\n",
       "      <td>803610</td>\n",
       "      <td>10/01/2020</td>\n",
       "      <td>Vente</td>\n",
       "      <td>680000,00</td>\n",
       "      <td>10.0</td>\n",
       "      <td>RUE</td>\n",
       "      <td>1200</td>\n",
       "      <td>DU BOURG L ABBE</td>\n",
       "      <td>75003.0</td>\n",
       "      <td>AV</td>\n",
       "      <td>...</td>\n",
       "      <td>NaN</td>\n",
       "      <td>NaN</td>\n",
       "      <td>NaN</td>\n",
       "      <td>NaN</td>\n",
       "      <td>NaN</td>\n",
       "      <td>1</td>\n",
       "      <td>2.0</td>\n",
       "      <td>51.0</td>\n",
       "      <td>2.0</td>\n",
       "      <td>NaN</td>\n",
       "    </tr>\n",
       "    <tr>\n",
       "      <th>4</th>\n",
       "      <td>803611</td>\n",
       "      <td>03/01/2020</td>\n",
       "      <td>Vente</td>\n",
       "      <td>852000,00</td>\n",
       "      <td>24.0</td>\n",
       "      <td>RUE</td>\n",
       "      <td>8716</td>\n",
       "      <td>DE SAINTONGE</td>\n",
       "      <td>75003.0</td>\n",
       "      <td>AK</td>\n",
       "      <td>...</td>\n",
       "      <td>NaN</td>\n",
       "      <td>NaN</td>\n",
       "      <td>NaN</td>\n",
       "      <td>NaN</td>\n",
       "      <td>NaN</td>\n",
       "      <td>1</td>\n",
       "      <td>2.0</td>\n",
       "      <td>19.0</td>\n",
       "      <td>1.0</td>\n",
       "      <td>NaN</td>\n",
       "    </tr>\n",
       "  </tbody>\n",
       "</table>\n",
       "<p>5 rows × 27 columns</p>\n",
       "</div>"
      ],
      "text/plain": [
       "   Unnamed: 0 Date mutation Nature mutation Valeur fonciere  No voie  \\\n",
       "0      803607    02/01/2020           Vente       268800,00     14.0   \n",
       "1      803608    06/01/2020           Vente       878378,00      9.0   \n",
       "2      803609    06/01/2020           Vente       878378,00      9.0   \n",
       "3      803610    10/01/2020           Vente       680000,00     10.0   \n",
       "4      803611    03/01/2020           Vente       852000,00     24.0   \n",
       "\n",
       "  Type de voie Code voie             Voie  Code postal Section  ...  \\\n",
       "0          RUE      0411      DE L ARCADE      75008.0      BS  ...   \n",
       "1           BD      5888  DE LA MADELEINE      75001.0      BC  ...   \n",
       "2           BD      5888  DE LA MADELEINE      75001.0      BC  ...   \n",
       "3          RUE      1200  DU BOURG L ABBE      75003.0      AV  ...   \n",
       "4          RUE      8716     DE SAINTONGE      75003.0      AK  ...   \n",
       "\n",
       "   Surface Carrez du 3eme lot  4eme lot Surface Carrez du 4eme lot 5eme lot  \\\n",
       "0                         NaN       NaN                        NaN      NaN   \n",
       "1                         NaN       NaN                        NaN      NaN   \n",
       "2                         NaN       NaN                        NaN      NaN   \n",
       "3                         NaN       NaN                        NaN      NaN   \n",
       "4                         NaN       NaN                        NaN      NaN   \n",
       "\n",
       "   Surface Carrez du 5eme lot Nombre de lots  Code type local  \\\n",
       "0                         NaN              2              2.0   \n",
       "1                         NaN              3              2.0   \n",
       "2                         NaN              1              4.0   \n",
       "3                         NaN              1              2.0   \n",
       "4                         NaN              1              2.0   \n",
       "\n",
       "  Surface reelle bati  Nombre pieces principales Surface terrain  \n",
       "0                24.0                        1.0             NaN  \n",
       "1                66.0                        2.0             NaN  \n",
       "2                43.0                        0.0             NaN  \n",
       "3                51.0                        2.0             NaN  \n",
       "4                19.0                        1.0             NaN  \n",
       "\n",
       "[5 rows x 27 columns]"
      ]
     },
     "execution_count": 116,
     "metadata": {},
     "output_type": "execute_result"
    }
   ],
   "source": [
    "df.head(5) # A little overview"
   ]
  },
  {
   "cell_type": "code",
   "execution_count": 117,
   "metadata": {},
   "outputs": [
    {
     "data": {
      "text/html": [
       "<div>\n",
       "<style scoped>\n",
       "    .dataframe tbody tr th:only-of-type {\n",
       "        vertical-align: middle;\n",
       "    }\n",
       "\n",
       "    .dataframe tbody tr th {\n",
       "        vertical-align: top;\n",
       "    }\n",
       "\n",
       "    .dataframe thead th {\n",
       "        text-align: right;\n",
       "    }\n",
       "</style>\n",
       "<table border=\"1\" class=\"dataframe\">\n",
       "  <thead>\n",
       "    <tr style=\"text-align: right;\">\n",
       "      <th></th>\n",
       "      <th>Unnamed: 0</th>\n",
       "      <th>No voie</th>\n",
       "      <th>Code postal</th>\n",
       "      <th>No plan</th>\n",
       "      <th>No Volume</th>\n",
       "      <th>2eme lot</th>\n",
       "      <th>3eme lot</th>\n",
       "      <th>4eme lot</th>\n",
       "      <th>5eme lot</th>\n",
       "      <th>Nombre de lots</th>\n",
       "      <th>Code type local</th>\n",
       "      <th>Surface reelle bati</th>\n",
       "      <th>Nombre pieces principales</th>\n",
       "      <th>Surface terrain</th>\n",
       "    </tr>\n",
       "  </thead>\n",
       "  <tbody>\n",
       "    <tr>\n",
       "      <th>count</th>\n",
       "      <td>23498.000000</td>\n",
       "      <td>23376.000000</td>\n",
       "      <td>23379.000000</td>\n",
       "      <td>23498.000000</td>\n",
       "      <td>43.000000</td>\n",
       "      <td>8532.000000</td>\n",
       "      <td>1472.000000</td>\n",
       "      <td>592.000000</td>\n",
       "      <td>259.000000</td>\n",
       "      <td>23498.000000</td>\n",
       "      <td>23178.000000</td>\n",
       "      <td>23172.000000</td>\n",
       "      <td>23172.000000</td>\n",
       "      <td>2175.000000</td>\n",
       "    </tr>\n",
       "    <tr>\n",
       "      <th>mean</th>\n",
       "      <td>815355.500000</td>\n",
       "      <td>50.986268</td>\n",
       "      <td>75013.162411</td>\n",
       "      <td>49.335263</td>\n",
       "      <td>572.441860</td>\n",
       "      <td>193.831106</td>\n",
       "      <td>119.512908</td>\n",
       "      <td>111.631757</td>\n",
       "      <td>140.243243</td>\n",
       "      <td>1.398119</td>\n",
       "      <td>2.451074</td>\n",
       "      <td>53.957621</td>\n",
       "      <td>1.580615</td>\n",
       "      <td>545.064368</td>\n",
       "    </tr>\n",
       "    <tr>\n",
       "      <th>std</th>\n",
       "      <td>6783.432649</td>\n",
       "      <td>142.582907</td>\n",
       "      <td>4.965525</td>\n",
       "      <td>41.930068</td>\n",
       "      <td>3508.186482</td>\n",
       "      <td>699.294044</td>\n",
       "      <td>386.888993</td>\n",
       "      <td>281.376065</td>\n",
       "      <td>342.521598</td>\n",
       "      <td>1.201576</td>\n",
       "      <td>0.693009</td>\n",
       "      <td>247.185729</td>\n",
       "      <td>1.551115</td>\n",
       "      <td>1491.616153</td>\n",
       "    </tr>\n",
       "    <tr>\n",
       "      <th>min</th>\n",
       "      <td>803607.000000</td>\n",
       "      <td>1.000000</td>\n",
       "      <td>75001.000000</td>\n",
       "      <td>1.000000</td>\n",
       "      <td>1.000000</td>\n",
       "      <td>2.000000</td>\n",
       "      <td>2.000000</td>\n",
       "      <td>2.000000</td>\n",
       "      <td>2.000000</td>\n",
       "      <td>0.000000</td>\n",
       "      <td>1.000000</td>\n",
       "      <td>0.000000</td>\n",
       "      <td>0.000000</td>\n",
       "      <td>17.000000</td>\n",
       "    </tr>\n",
       "    <tr>\n",
       "      <th>25%</th>\n",
       "      <td>809481.250000</td>\n",
       "      <td>11.000000</td>\n",
       "      <td>75010.000000</td>\n",
       "      <td>17.000000</td>\n",
       "      <td>2.000000</td>\n",
       "      <td>22.000000</td>\n",
       "      <td>21.000000</td>\n",
       "      <td>25.000000</td>\n",
       "      <td>31.000000</td>\n",
       "      <td>1.000000</td>\n",
       "      <td>2.000000</td>\n",
       "      <td>11.000000</td>\n",
       "      <td>0.000000</td>\n",
       "      <td>197.000000</td>\n",
       "    </tr>\n",
       "    <tr>\n",
       "      <th>50%</th>\n",
       "      <td>815355.500000</td>\n",
       "      <td>28.000000</td>\n",
       "      <td>75015.000000</td>\n",
       "      <td>40.000000</td>\n",
       "      <td>3.000000</td>\n",
       "      <td>47.000000</td>\n",
       "      <td>44.000000</td>\n",
       "      <td>55.000000</td>\n",
       "      <td>74.000000</td>\n",
       "      <td>1.000000</td>\n",
       "      <td>2.000000</td>\n",
       "      <td>32.000000</td>\n",
       "      <td>1.000000</td>\n",
       "      <td>327.000000</td>\n",
       "    </tr>\n",
       "    <tr>\n",
       "      <th>75%</th>\n",
       "      <td>821229.750000</td>\n",
       "      <td>66.000000</td>\n",
       "      <td>75017.000000</td>\n",
       "      <td>69.000000</td>\n",
       "      <td>10.000000</td>\n",
       "      <td>99.000000</td>\n",
       "      <td>82.000000</td>\n",
       "      <td>94.000000</td>\n",
       "      <td>105.500000</td>\n",
       "      <td>2.000000</td>\n",
       "      <td>3.000000</td>\n",
       "      <td>60.000000</td>\n",
       "      <td>3.000000</td>\n",
       "      <td>583.000000</td>\n",
       "    </tr>\n",
       "    <tr>\n",
       "      <th>max</th>\n",
       "      <td>827104.000000</td>\n",
       "      <td>9001.000000</td>\n",
       "      <td>75020.000000</td>\n",
       "      <td>705.000000</td>\n",
       "      <td>23034.000000</td>\n",
       "      <td>13116.000000</td>\n",
       "      <td>6088.000000</td>\n",
       "      <td>3575.000000</td>\n",
       "      <td>3124.000000</td>\n",
       "      <td>80.000000</td>\n",
       "      <td>4.000000</td>\n",
       "      <td>21603.000000</td>\n",
       "      <td>12.000000</td>\n",
       "      <td>30250.000000</td>\n",
       "    </tr>\n",
       "  </tbody>\n",
       "</table>\n",
       "</div>"
      ],
      "text/plain": [
       "          Unnamed: 0       No voie   Code postal       No plan     No Volume  \\\n",
       "count   23498.000000  23376.000000  23379.000000  23498.000000     43.000000   \n",
       "mean   815355.500000     50.986268  75013.162411     49.335263    572.441860   \n",
       "std      6783.432649    142.582907      4.965525     41.930068   3508.186482   \n",
       "min    803607.000000      1.000000  75001.000000      1.000000      1.000000   \n",
       "25%    809481.250000     11.000000  75010.000000     17.000000      2.000000   \n",
       "50%    815355.500000     28.000000  75015.000000     40.000000      3.000000   \n",
       "75%    821229.750000     66.000000  75017.000000     69.000000     10.000000   \n",
       "max    827104.000000   9001.000000  75020.000000    705.000000  23034.000000   \n",
       "\n",
       "           2eme lot     3eme lot     4eme lot     5eme lot  Nombre de lots  \\\n",
       "count   8532.000000  1472.000000   592.000000   259.000000    23498.000000   \n",
       "mean     193.831106   119.512908   111.631757   140.243243        1.398119   \n",
       "std      699.294044   386.888993   281.376065   342.521598        1.201576   \n",
       "min        2.000000     2.000000     2.000000     2.000000        0.000000   \n",
       "25%       22.000000    21.000000    25.000000    31.000000        1.000000   \n",
       "50%       47.000000    44.000000    55.000000    74.000000        1.000000   \n",
       "75%       99.000000    82.000000    94.000000   105.500000        2.000000   \n",
       "max    13116.000000  6088.000000  3575.000000  3124.000000       80.000000   \n",
       "\n",
       "       Code type local  Surface reelle bati  Nombre pieces principales  \\\n",
       "count     23178.000000         23172.000000               23172.000000   \n",
       "mean          2.451074            53.957621                   1.580615   \n",
       "std           0.693009           247.185729                   1.551115   \n",
       "min           1.000000             0.000000                   0.000000   \n",
       "25%           2.000000            11.000000                   0.000000   \n",
       "50%           2.000000            32.000000                   1.000000   \n",
       "75%           3.000000            60.000000                   3.000000   \n",
       "max           4.000000         21603.000000                  12.000000   \n",
       "\n",
       "       Surface terrain  \n",
       "count      2175.000000  \n",
       "mean        545.064368  \n",
       "std        1491.616153  \n",
       "min          17.000000  \n",
       "25%         197.000000  \n",
       "50%         327.000000  \n",
       "75%         583.000000  \n",
       "max       30250.000000  "
      ]
     },
     "execution_count": 117,
     "metadata": {},
     "output_type": "execute_result"
    }
   ],
   "source": [
    "df.describe()"
   ]
  },
  {
   "cell_type": "code",
   "execution_count": 118,
   "metadata": {},
   "outputs": [
    {
     "data": {
      "text/plain": [
       "Unnamed: 0                      int64\n",
       "Date mutation                  object\n",
       "Nature mutation                object\n",
       "Valeur fonciere                object\n",
       "No voie                       float64\n",
       "Type de voie                   object\n",
       "Code voie                      object\n",
       "Voie                           object\n",
       "Code postal                   float64\n",
       "Section                        object\n",
       "No plan                         int64\n",
       "No Volume                     float64\n",
       "1er lot                        object\n",
       "Surface Carrez du 1er lot      object\n",
       "2eme lot                      float64\n",
       "Surface Carrez du 2eme lot     object\n",
       "3eme lot                      float64\n",
       "Surface Carrez du 3eme lot     object\n",
       "4eme lot                      float64\n",
       "Surface Carrez du 4eme lot     object\n",
       "5eme lot                      float64\n",
       "Surface Carrez du 5eme lot     object\n",
       "Nombre de lots                  int64\n",
       "Code type local               float64\n",
       "Surface reelle bati           float64\n",
       "Nombre pieces principales     float64\n",
       "Surface terrain               float64\n",
       "dtype: object"
      ]
     },
     "execution_count": 118,
     "metadata": {},
     "output_type": "execute_result"
    }
   ],
   "source": [
    "df.dtypes"
   ]
  },
  {
   "cell_type": "markdown",
   "metadata": {},
   "source": [
    "# Preprocessing"
   ]
  },
  {
   "cell_type": "markdown",
   "metadata": {},
   "source": [
    "- Discard the useless columns\n",
    "- rename the first column to id because it didn't have name\n",
    "- convert some columns to float because it's a numeric value in a string type"
   ]
  },
  {
   "cell_type": "code",
   "execution_count": 119,
   "metadata": {},
   "outputs": [],
   "source": [
    "df = df.drop(['Code voie','Voie', 'Section', '1er lot', '2eme lot', '3eme lot','4eme lot','5eme lot'],axis=1, errors='ignore').rename(columns={'Unnamed: 0': \"id\"})\n",
    "df['Valeur fonciere'] = df['Valeur fonciere'].str.replace(',', '.').apply(float)\n",
    "df['Surface Carrez du 1er lot'] = df['Surface Carrez du 1er lot'].str.replace(',', '.').apply(float)\n",
    "df['Surface Carrez du 2eme lot'] = df['Surface Carrez du 2eme lot'].str.replace(',', '.').apply(float)\n",
    "df['Surface Carrez du 3eme lot'] = df['Surface Carrez du 3eme lot'].str.replace(',', '.').apply(float)\n",
    "df['Surface Carrez du 4eme lot'] = df['Surface Carrez du 4eme lot'].str.replace(',', '.').apply(float)\n",
    "df['Surface Carrez du 5eme lot'] = df['Surface Carrez du 5eme lot'].str.replace(',', '.').apply(float)"
   ]
  },
  {
   "cell_type": "code",
   "execution_count": null,
   "metadata": {},
   "outputs": [],
   "source": []
  },
  {
   "cell_type": "markdown",
   "metadata": {},
   "source": [
    "## Handle nulls\n",
    "      As we can see in the next cell , there are a lot of missing values in some columns \n",
    "      - \"No Volume\" which isn't important so i'll just discard it\n",
    "      - \"Surface terrain\" could be important but i can't use it here because i have a too small sample that aren't null (~9% of total), i'll discard it as well\n",
    "      - \"Surface carrez du 1er lot\" is at 57% null but i must have it to get a correct price , so i'll replace the nulls with the mean.\n",
    "      - About \"Surface carrez du 2/3/4/5 lot\" i'll simply insert a 0 instead of null\n",
    "      \n",
    "      Some value from \"Valeur fonciere\" are missing which is the target , i'll discard the lines without \"Valeur fonciere\""
   ]
  },
  {
   "cell_type": "code",
   "execution_count": null,
   "metadata": {},
   "outputs": [],
   "source": []
  },
  {
   "cell_type": "code",
   "execution_count": 120,
   "metadata": {},
   "outputs": [
    {
     "data": {
      "text/plain": [
       "id                             0.000000\n",
       "Date mutation                  0.000000\n",
       "Nature mutation                0.000000\n",
       "Valeur fonciere                0.182994\n",
       "No voie                        0.519193\n",
       "Type de voie                   0.604307\n",
       "Code postal                    0.506426\n",
       "No plan                        0.000000\n",
       "No Volume                     99.817006\n",
       "Surface Carrez du 1er lot     57.962380\n",
       "Surface Carrez du 2eme lot    89.182058\n",
       "Surface Carrez du 3eme lot    98.982892\n",
       "Surface Carrez du 4eme lot    99.761682\n",
       "Surface Carrez du 5eme lot    99.885097\n",
       "Nombre de lots                 0.000000\n",
       "Code type local                1.361818\n",
       "Surface reelle bati            1.387352\n",
       "Nombre pieces principales      1.387352\n",
       "Surface terrain               90.743893\n",
       "dtype: float64"
      ]
     },
     "execution_count": 120,
     "metadata": {},
     "output_type": "execute_result"
    }
   ],
   "source": [
    "df.isnull().mean() * 100"
   ]
  },
  {
   "cell_type": "code",
   "execution_count": 121,
   "metadata": {},
   "outputs": [],
   "source": [
    "df = df.dropna(subset=['Valeur fonciere'])"
   ]
  },
  {
   "cell_type": "code",
   "execution_count": 122,
   "metadata": {},
   "outputs": [],
   "source": [
    "df = df.drop(['No Volume','Surface terrain'],axis=1, errors='ignore')"
   ]
  },
  {
   "cell_type": "code",
   "execution_count": 123,
   "metadata": {},
   "outputs": [],
   "source": [
    "df['Surface Carrez du 1er lot'] = df['Surface Carrez du 1er lot'].fillna(df['Surface Carrez du 1er lot'].mean())\n",
    "df['Surface Carrez du 2eme lot'] = df['Surface Carrez du 2eme lot'].fillna(0)\n",
    "df['Surface Carrez du 3eme lot'] = df['Surface Carrez du 3eme lot'].fillna(0)\n",
    "df['Surface Carrez du 4eme lot'] = df['Surface Carrez du 4eme lot'].fillna(0)\n",
    "df['Surface Carrez du 5eme lot'] = df['Surface Carrez du 5eme lot'].fillna(0)\n",
    "df = df.fillna(df.mean())"
   ]
  },
  {
   "cell_type": "markdown",
   "metadata": {},
   "source": []
  },
  {
   "cell_type": "code",
   "execution_count": null,
   "metadata": {},
   "outputs": [],
   "source": []
  },
  {
   "cell_type": "code",
   "execution_count": null,
   "metadata": {},
   "outputs": [],
   "source": []
  },
  {
   "cell_type": "markdown",
   "metadata": {},
   "source": [
    "## Let's check the correlations"
   ]
  },
  {
   "cell_type": "code",
   "execution_count": 124,
   "metadata": {},
   "outputs": [
    {
     "data": {
      "text/plain": [
       "<matplotlib.axes._subplots.AxesSubplot at 0x7fe84eda7210>"
      ]
     },
     "execution_count": 124,
     "metadata": {},
     "output_type": "execute_result"
    },
    {
     "data": {
      "image/png": "[encoded data removed]",
      "text/plain": [
       "<Figure size 432x288 with 2 Axes>"
      ]
     },
     "metadata": {
      "needs_background": "light"
     },
     "output_type": "display_data"
    }
   ],
   "source": [
    "corr = df.corr()\n",
    "sns.heatmap(corr, \n",
    "            xticklabels=corr.columns.values,\n",
    "            yticklabels=corr.columns.values)"
   ]
  },
  {
   "cell_type": "markdown",
   "metadata": {},
   "source": [
    "We can see that \"surface reelle batiment\" is the most correlated values and a little bit the square meters (it would be more if we had less null values i guess) which is pretty logic but we can also see that the amount of property doesn't correlate."
   ]
  },
  {
   "cell_type": "markdown",
   "metadata": {},
   "source": [
    "# One hot encoding\n",
    "   Some values are strings and we need it , but the model can't use non numeric value so we will one hot encode them.\n",
    "   For date (i don't know if it can have any correlation tho), they are all in 2020 so i'll keep only the month and one hot encode it to not make the model think it's a numeric value that has a quantity\n",
    "   #### The columns are :\n",
    "    - Date mutation\n",
    "    - code postal\n",
    "    - type de voie\n",
    "    - nature mutation\n",
    "   \n",
    "Some of these columns may be useless , if i realize later that they are , i'll just delete them"
   ]
  },
  {
   "cell_type": "code",
   "execution_count": 125,
   "metadata": {},
   "outputs": [],
   "source": [
    "df['Date mutation'] = (pandas.to_datetime(df['Date mutation'], format='%d/%m/%Y', errors='coerce')).dt.month"
   ]
  },
  {
   "cell_type": "code",
   "execution_count": 126,
   "metadata": {},
   "outputs": [],
   "source": [
    "df = pandas.get_dummies(df, columns=['Date mutation', 'Code postal', 'Type de voie','Nature mutation'])"
   ]
  },
  {
   "cell_type": "markdown",
   "metadata": {},
   "source": [
    "# Predict the price"
   ]
  },
  {
   "cell_type": "markdown",
   "metadata": {},
   "source": [
    "#### To predict a price we need to use a regression model , for this case i think that a normal regression model is enough (Deep learning would be too much for nothing more for example)"
   ]
  },
  {
   "cell_type": "code",
   "execution_count": 127,
   "metadata": {},
   "outputs": [],
   "source": [
    "from sklearn import linear_model\n",
    "from sklearn.model_selection import train_test_split\n",
    "\n",
    "reg = linear_model.LinearRegression()"
   ]
  },
  {
   "cell_type": "code",
   "execution_count": null,
   "metadata": {},
   "outputs": [],
   "source": []
  },
  {
   "cell_type": "code",
   "execution_count": 144,
   "metadata": {},
   "outputs": [],
   "source": [
    "y = df['Valeur fonciere']\n",
    "X = df.drop(['Valeur fonciere', 'id'],axis=1)\n"
   ]
  },
  {
   "cell_type": "code",
   "execution_count": 145,
   "metadata": {},
   "outputs": [],
   "source": [
    "# We split the data , to keep some for testing after.\n",
    "X_train, X_test, y_train, y_test = train_test_split(\n",
    "    X, y, test_size=0.33, random_state=42, shuffle=True)\n"
   ]
  },
  {
   "cell_type": "code",
   "execution_count": null,
   "metadata": {},
   "outputs": [],
   "source": []
  },
  {
   "cell_type": "code",
   "execution_count": 146,
   "metadata": {},
   "outputs": [
    {
     "data": {
      "text/plain": [
       "LinearRegression()"
      ]
     },
     "execution_count": 146,
     "metadata": {},
     "output_type": "execute_result"
    }
   ],
   "source": [
    "reg.fit(X_train, y_train)"
   ]
  },
  {
   "cell_type": "markdown",
   "metadata": {},
   "source": [
    "There are many important parameter to measure to then better fit the model to what we need , it's less true for regression but especially important for classification for example."
   ]
  },
  {
   "cell_type": "code",
   "execution_count": 147,
   "metadata": {},
   "outputs": [
    {
     "data": {
      "text/plain": [
       "0.31735036502160163"
      ]
     },
     "execution_count": 147,
     "metadata": {},
     "output_type": "execute_result"
    }
   ],
   "source": [
    "reg.score(X_test, y_test) # the Mean squared error"
   ]
  },
  {
   "cell_type": "code",
   "execution_count": 148,
   "metadata": {},
   "outputs": [
    {
     "data": {
      "text/plain": [
       "array([ 4010649.57491321,  1336177.83238842,   919404.48618768, ...,\n",
       "        1085408.97132133, 20762087.42825823,  6257769.92873712])"
      ]
     },
     "execution_count": 148,
     "metadata": {},
     "output_type": "execute_result"
    }
   ],
   "source": [
    "reg.predict(X_test)"
   ]
  },
  {
   "cell_type": "markdown",
   "metadata": {},
   "source": [
    "## Final Note\n",
    "\n",
    "As we can see , we get a pretty bad result of 0.31 \n",
    "\n",
    "We can try to tweak the model to get a better result but the main problem here is the data we have and especially the nulls , there are way too many nulls .\n",
    "\n",
    "We can also try to find some arbitrary value to improve the model like square meter / type of house .....\n",
    "\n",
    "Depending on the real goal of this model we can also try to improve the accuracy of the data for example here we use the square meter of the property but maybe the price is about the livable square meter ..."
   ]
  },
  {
   "cell_type": "code",
   "execution_count": null,
   "metadata": {},
   "outputs": [],
   "source": []
  },
  {
   "cell_type": "code",
   "execution_count": null,
   "metadata": {},
   "outputs": [],
   "source": []
  },
  {
   "cell_type": "code",
   "execution_count": null,
   "metadata": {},
   "outputs": [],
   "source": []
  }
 ],
 "metadata": {
  "kernelspec": {
   "display_name": "Python 3",
   "language": "python",
   "name": "python3"
  },
  "language_info": {
   "codemirror_mode": {
    "name": "ipython",
    "version": 3
   },
   "file_extension": ".py",
   "mimetype": "text/x-python",
   "name": "python",
   "nbconvert_exporter": "python",
   "pygments_lexer": "ipython3",
   "version": "3.7.4"
  },
  "latex_envs": {
   "LaTeX_envs_menu_present": true,
   "autoclose": false,
   "autocomplete": true,
   "bibliofile": "biblio.bib",
   "cite_by": "apalike",
   "current_citInitial": 1,
   "eqLabelWithNumbers": true,
   "eqNumInitial": 1,
   "hotkeys": {
    "equation": "Ctrl-E",
    "itemize": "Ctrl-I"
   },
   "labels_anchors": false,
   "latex_user_defs": false,
   "report_style_numbering": false,
   "user_envs_cfg": false
  }
 },
 "nbformat": 4,
 "nbformat_minor": 2
}
